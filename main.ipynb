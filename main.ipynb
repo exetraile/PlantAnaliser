{
 "cells": [
  {
   "cell_type": "code",
   "execution_count": 5,
   "metadata": {},
   "outputs": [
    {
     "name": "stderr",
     "output_type": "stream",
     "text": [
      "WARNING:absl:Compiled the loaded model, but the compiled metrics have yet to be built. `model.compile_metrics` will be empty until you train or evaluate the model.\n"
     ]
    },
    {
     "name": "stdout",
     "output_type": "stream",
     "text": [
      "WARNING:tensorflow:5 out of the last 5 calls to <function TensorFlowTrainer.make_predict_function.<locals>.one_step_on_data_distributed at 0x0000020322986E80> triggered tf.function retracing. Tracing is expensive and the excessive number of tracings could be due to (1) creating @tf.function repeatedly in a loop, (2) passing tensors with different shapes, (3) passing Python objects instead of tensors. For (1), please define your @tf.function outside of the loop. For (2), @tf.function has reduce_retracing=True option that can avoid unnecessary retracing. For (3), please refer to https://www.tensorflow.org/guide/function#controlling_retracing and https://www.tensorflow.org/api_docs/python/tf/function for  more details.\n"
     ]
    },
    {
     "name": "stderr",
     "output_type": "stream",
     "text": [
      "WARNING:tensorflow:5 out of the last 5 calls to <function TensorFlowTrainer.make_predict_function.<locals>.one_step_on_data_distributed at 0x0000020322986E80> triggered tf.function retracing. Tracing is expensive and the excessive number of tracings could be due to (1) creating @tf.function repeatedly in a loop, (2) passing tensors with different shapes, (3) passing Python objects instead of tensors. For (1), please define your @tf.function outside of the loop. For (2), @tf.function has reduce_retracing=True option that can avoid unnecessary retracing. For (3), please refer to https://www.tensorflow.org/guide/function#controlling_retracing and https://www.tensorflow.org/api_docs/python/tf/function for  more details.\n"
     ]
    },
    {
     "name": "stdout",
     "output_type": "stream",
     "text": [
      "\u001b[1m1/1\u001b[0m \u001b[32m━━━━━━━━━━━━━━━━━━━━\u001b[0m\u001b[37m\u001b[0m \u001b[1m0s\u001b[0m 70ms/step\n",
      "Predicted class: Potato___Early_blight\n"
     ]
    }
   ],
   "source": [
    "# Импорт необходимых библиотек\n",
    "import numpy as np\n",
    "from tensorflow.keras.models import load_model\n",
    "from tensorflow.keras.preprocessing.image import load_img, img_to_array\n",
    "\n",
    "# Загрузка модели\n",
    "model = load_model('final_model.h5')\n",
    "\n",
    "# Загрузка индексов классов\n",
    "class_indices = np.load('class_indices.npy', allow_pickle=True).item()  # Загрузка индексов классов\n",
    "class_indices = {v: k for k, v in class_indices.items()}  # Обратный словарь для классов\n",
    "\n",
    "# Функция для подготовки изображения\n",
    "def prepare_image(image_path, target_size=(150, 150)):\n",
    "    img = load_img(image_path, target_size=target_size)  # Загрузка изображения\n",
    "    img_array = img_to_array(img)  # Преобразование в массив\n",
    "    img_array = np.expand_dims(img_array, axis=0)  # Добавление размерности для батча\n",
    "    img_array /= 255.0  # Нормализация\n",
    "    return img_array\n",
    "\n",
    "# Путь к изображению, которое вы хотите проанализировать\n",
    "image_path = './images/archive/test/test/PotatoEarlyBlight1.JPG'  # Замените на путь к вашему изображению\n",
    "prepared_image = prepare_image(image_path)\n",
    "\n",
    "# Предсказание\n",
    "predictions = model.predict(prepared_image)\n",
    "predicted_class = np.argmax(predictions, axis=1)  # Получение класса с наибольшей вероятностью\n",
    "\n",
    "# Вывод результата\n",
    "predicted_label = class_indices[predicted_class[0]]  # Получение метки класса\n",
    "\n",
    "print(f'Predicted class: {predicted_label}')"
   ]
  }
 ],
 "metadata": {
  "kernelspec": {
   "display_name": "Python 3",
   "language": "python",
   "name": "python3"
  },
  "language_info": {
   "codemirror_mode": {
    "name": "ipython",
    "version": 3
   },
   "file_extension": ".py",
   "mimetype": "text/x-python",
   "name": "python",
   "nbconvert_exporter": "python",
   "pygments_lexer": "ipython3",
   "version": "3.12.9"
  }
 },
 "nbformat": 4,
 "nbformat_minor": 2
}
